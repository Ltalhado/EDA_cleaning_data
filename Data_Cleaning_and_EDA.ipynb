{
  "nbformat": 4,
  "nbformat_minor": 0,
  "metadata": {
    "colab": {
      "name": "Data_Cleaning_and_EDA.ipynb",
      "private_outputs": true,
      "provenance": [],
      "collapsed_sections": [],
      "mount_file_id": "1K9zVPZY6Vxn6CtLlw_AOm4w1kqPW6QPY",
      "authorship_tag": "ABX9TyNPUJ+yQddvNo+Wy+XmlsvY",
      "include_colab_link": true
    },
    "kernelspec": {
      "name": "python3",
      "display_name": "Python 3"
    },
    "language_info": {
      "name": "python"
    }
  },
  "cells": [
    {
      "cell_type": "markdown",
      "metadata": {
        "id": "view-in-github",
        "colab_type": "text"
      },
      "source": [
        "<a href=\"https://colab.research.google.com/github/Ltalhado/EDA_cleaning_data/blob/main/Data_Cleaning_and_EDA.ipynb\" target=\"_parent\"><img src=\"https://colab.research.google.com/assets/colab-badge.svg\" alt=\"Open In Colab\"/></a>"
      ]
    },
    {
      "cell_type": "code",
      "metadata": {
        "id": "2tg1tsMMogZZ"
      },
      "source": [
        "%matplotlib inline\n",
        "from __future__ import print_function\n",
        "import numpy as np\n",
        "import pandas as pd\n",
        "import matplotlib.pyplot as plt"
      ],
      "execution_count": null,
      "outputs": []
    },
    {
      "cell_type": "code",
      "metadata": {
        "id": "7kMLVi7No88_"
      },
      "source": [
        "from google.colab import drive\n",
        "drive.mount('/content/drive')"
      ],
      "execution_count": null,
      "outputs": []
    },
    {
      "cell_type": "code",
      "metadata": {
        "id": "5q1F2wnpo1uF"
      },
      "source": [
        "data = pd.read_csv(\"/content/drive/MyDrive/raw_house_data.csv\")"
      ],
      "execution_count": null,
      "outputs": []
    },
    {
      "cell_type": "code",
      "metadata": {
        "id": "x0vJU9_orPn6"
      },
      "source": [
        "# Identify the data types\n",
        "data.dtypes"
      ],
      "execution_count": null,
      "outputs": []
    },
    {
      "cell_type": "code",
      "metadata": {
        "id": "UZedWECBpp34"
      },
      "source": [
        "# Checking the size of the data\n",
        "data.shape"
      ],
      "execution_count": null,
      "outputs": []
    },
    {
      "cell_type": "code",
      "metadata": {
        "id": "f7grdA0ZpfLB"
      },
      "source": [
        "# checking if data is labeled\n",
        "data.head()"
      ],
      "execution_count": null,
      "outputs": []
    },
    {
      "cell_type": "code",
      "metadata": {
        "id": "X62e8Bmyxo7t"
      },
      "source": [
        "data.columns"
      ],
      "execution_count": null,
      "outputs": []
    },
    {
      "cell_type": "code",
      "metadata": {
        "id": "kQKmmOdX3D--"
      },
      "source": [
        "# returns unique values with the dataset \n",
        "data.nunique(axis=0)"
      ],
      "execution_count": null,
      "outputs": []
    },
    {
      "cell_type": "code",
      "metadata": {
        "id": "HwZ8iMyapNjZ"
      },
      "source": [
        "data.describe().apply(lambda x: x.apply(lambda x: format(x,'f')))"
      ],
      "execution_count": null,
      "outputs": []
    },
    {
      "cell_type": "code",
      "metadata": {
        "id": "0QPz_267CzEx"
      },
      "source": [
        "# returns unique values with Sold_prices columns\n",
        "data['sold_price'].value_counts()"
      ],
      "execution_count": null,
      "outputs": []
    },
    {
      "cell_type": "code",
      "metadata": {
        "id": "2rw6QP41DNbZ"
      },
      "source": [
        "data['lot_acres'].nunique()"
      ],
      "execution_count": null,
      "outputs": []
    },
    {
      "cell_type": "code",
      "metadata": {
        "id": "zycHbJT_qow6"
      },
      "source": [
        "# Finding null values in the data\n",
        "data.apply(lambda x: sum(x.isnull()), axis=0)"
      ],
      "execution_count": null,
      "outputs": []
    },
    {
      "cell_type": "code",
      "metadata": {
        "id": "s2DPZxg76_lp"
      },
      "source": [
        "# replacing all values of 'None' to nan\n",
        "data.replace('None', np.nan, inplace=True)"
      ],
      "execution_count": null,
      "outputs": []
    },
    {
      "cell_type": "code",
      "metadata": {
        "id": "AkdOjq0iMI8Q"
      },
      "source": [
        "# filling all nan values with zeros\n",
        "data.fillna(0,inplace=True)"
      ],
      "execution_count": null,
      "outputs": []
    },
    {
      "cell_type": "code",
      "metadata": {
        "id": "7m41tYpDEI8p"
      },
      "source": [
        "data.hist('sold_price', bins=10)"
      ],
      "execution_count": null,
      "outputs": []
    },
    {
      "cell_type": "code",
      "metadata": {
        "id": "P7p9Xc6FIxrY"
      },
      "source": [
        "# highest point of data for land purchase is 5000 acres\n",
        "data.hist('lot_acres')"
      ],
      "execution_count": null,
      "outputs": []
    },
    {
      "cell_type": "code",
      "metadata": {
        "id": "rdOn9TMuJF2A"
      },
      "source": [
        "# highest purchase rates are between to 0 to 5 bedrooms\n",
        "data.hist('bedrooms',bins=10)"
      ],
      "execution_count": null,
      "outputs": []
    },
    {
      "cell_type": "code",
      "metadata": {
        "id": "6Namz3llOuxs"
      },
      "source": [
        "# saved dataset\n",
        "data.to_csv('/content/drive/MyDrive/newdata1.xlsx')"
      ],
      "execution_count": null,
      "outputs": []
    },
    {
      "cell_type": "code",
      "metadata": {
        "id": "_yxrya2BSU9E"
      },
      "source": [
        "print('*' * 30)\n",
        "print(\"New dataset with changes done\")\n",
        "print('*' * 30)"
      ],
      "execution_count": null,
      "outputs": []
    },
    {
      "cell_type": "code",
      "metadata": {
        "id": "lFMOOglzNfxV"
      },
      "source": [
        "# loading saved dataset\n",
        "newdata = pd.read_csv(\"/content/drive/MyDrive/newdata1.xlsx\")"
      ],
      "execution_count": null,
      "outputs": []
    },
    {
      "cell_type": "code",
      "metadata": {
        "id": "r8_AdfBFOo61"
      },
      "source": [
        "newdata.shape"
      ],
      "execution_count": null,
      "outputs": []
    },
    {
      "cell_type": "code",
      "metadata": {
        "id": "XSlufo_C0pYh"
      },
      "source": [
        "newdata.head()"
      ],
      "execution_count": null,
      "outputs": []
    },
    {
      "cell_type": "code",
      "metadata": {
        "id": "FyTrsMSbReBC"
      },
      "source": [
        "newdata.dtypes"
      ],
      "execution_count": null,
      "outputs": []
    },
    {
      "cell_type": "code",
      "metadata": {
        "id": "ibwFhw0iRjbt"
      },
      "source": [
        "# deleted extra columns added my saved previous dataset\n",
        "del newdata['Unnamed: 0']"
      ],
      "execution_count": null,
      "outputs": []
    },
    {
      "cell_type": "code",
      "metadata": {
        "id": "D91vgUv_RoV7"
      },
      "source": [
        "# review dataset\n",
        "newdata.dtypes"
      ],
      "execution_count": null,
      "outputs": []
    },
    {
      "cell_type": "code",
      "metadata": {
        "id": "dz1PyV6IR0iH"
      },
      "source": [
        "# Saved the changes of deletion of the extra columns\n",
        "newdata.to_csv('/content/drive/MyDrive/newdata1.xlsx')"
      ],
      "execution_count": null,
      "outputs": []
    },
    {
      "cell_type": "code",
      "metadata": {
        "id": "pCJM_JFCR_sB"
      },
      "source": [
        "newdata.hist('sold_price', bins=10)"
      ],
      "execution_count": null,
      "outputs": []
    },
    {
      "cell_type": "code",
      "metadata": {
        "id": "dqa8y-0wSlo-"
      },
      "source": [
        "# with data points\n",
        "newdata.plot.scatter(x='sold_price',y='lot_acres', c='bedrooms')"
      ],
      "execution_count": null,
      "outputs": []
    }
  ]
}